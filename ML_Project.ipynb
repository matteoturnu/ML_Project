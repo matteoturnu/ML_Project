{
  "nbformat": 4,
  "nbformat_minor": 0,
  "metadata": {
    "colab": {
      "provenance": [],
      "include_colab_link": true
    },
    "kernelspec": {
      "name": "python3",
      "display_name": "Python 3"
    },
    "language_info": {
      "name": "python"
    }
  },
  "cells": [
    {
      "cell_type": "markdown",
      "metadata": {
        "id": "view-in-github",
        "colab_type": "text"
      },
      "source": [
        "<a href=\"https://colab.research.google.com/github/matteoturnu/ML_Project/blob/main/ML_Project.ipynb\" target=\"_parent\"><img src=\"https://colab.research.google.com/assets/colab-badge.svg\" alt=\"Open In Colab\"/></a>"
      ]
    },
    {
      "cell_type": "code",
      "source": [
        "import pandas as pd\n",
        "import numpy as np\n",
        "from sklearn.feature_extraction.text import TfidfVectorizer\n",
        "from sklearn.preprocessing import normalize\n",
        "import random\n",
        "from importlib.util import find_spec\n",
        "import json\n",
        "import os\n",
        "import shutil\n",
        "import requests\n",
        "import sys\n",
        "project_folder = \"/content/password_strength_classifier\""
      ],
      "metadata": {
        "id": "KykGU56SuABu"
      },
      "execution_count": 1,
      "outputs": []
    },
    {
      "cell_type": "markdown",
      "source": [
        "Creation of useful directories and download of password dictionaries"
      ],
      "metadata": {
        "id": "V8T3qe2zMghF"
      }
    },
    {
      "cell_type": "code",
      "source": [
        "def download_file(url, dest_folder_name):\n",
        "  local_filename = url.split('/')[-1]\n",
        "  path = os.path.join(\"/{}/{}\".format(dest_folder_name, local_filename))\n",
        "  \"\"\"with requests.get(url, stream=True) as r:\n",
        "      with open(path, 'wb') as f:\n",
        "          shutil.copyfileobj(r.raw, f)\"\"\"\n",
        "\n",
        "  with open(path, 'wb') as f:\n",
        "    f.write(requests.get(url, stream=True).content)\n",
        "\n",
        "  # return local_filename\n",
        "  return path\n",
        "\n",
        "def read_file(filepath):\n",
        "  with open(filepath, errors='replace', encoding='utf-8') as f:\n",
        "    data = {line.split('\\n')[0] for line in f.readlines()}\n",
        "  return data\n",
        "\n",
        "\n",
        "if os.path.exists(project_folder) is False:\n",
        "  dict_dir = project_folder + \"/dictionaries/\"\n",
        "  dataset_dir = project_folder + \"/dataset/\"\n",
        "\n",
        "  os.mkdir(project_folder)\n",
        "  os.mkdir(dataset_dir)\n",
        "\n",
        "  os.mkdir(dict_dir)\n",
        "\n",
        "  f_rockyou = download_file(\n",
        "    \"https://github.com/brannondorsey/naive-hashcat/releases/download/data/rockyou.txt\",\n",
        "    dict_dir)\n",
        "\n",
        "  f_jtr = download_file(\n",
        "      \"https://raw.githubusercontent.com/danielmiessler/SecLists/master/Passwords/Software/john-the-ripper.txt\",\n",
        "      dict_dir)\n",
        "\n",
        "\n",
        "data_rockyou = read_file(f_rockyou)\n",
        "data_jtr = read_file(f_jtr)\n",
        "\n",
        "print(\"\\nRock You\")\n",
        "import itertools\n",
        "print([val for i, val in enumerate(itertools.islice(data_rockyou, 5))])\n",
        "print(\"\\nJohn The Ripper\")\n",
        "print([val for i, val in enumerate(itertools.islice(data_jtr, 5))])\n"
      ],
      "metadata": {
        "colab": {
          "base_uri": "https://localhost:8080/"
        },
        "id": "ynOVFhD_5q3r",
        "outputId": "d9013786-b3a5-4f6d-b2fb-75c471654e4c"
      },
      "execution_count": 2,
      "outputs": [
        {
          "output_type": "stream",
          "name": "stdout",
          "text": [
            "\n",
            "Rock You\n",
            "['', 'katnica', '9285515', 'netving', '77sunsetstrip']\n",
            "\n",
            "John The Ripper\n",
            "['sparky', 'fiction', 'Master', 'autumn', 'smiles']\n"
          ]
        }
      ]
    },
    {
      "cell_type": "code",
      "source": [
        "# download the dataset\n",
        "\n",
        "if find_spec(\"kaggle\") is None:\n",
        "  ! pip install -q kaggle\n",
        "\n",
        "if os.path.isdir(\"/root/.kaggle\") is False:\n",
        "  ! mkdir ~/.kaggle\n",
        "  ! touch \"/root/.kaggle/kaggle.json\"\n",
        "\n",
        "  token = {\"username\":\"matteoturnu\",\"key\":\"79ea644685a3e574038b40e4019b0927\"}\n",
        "  with open('/root/.kaggle/kaggle.json', 'w') as file:\n",
        "    json.dump(token, file)\n",
        "  !chmod 600 /root/.kaggle/kaggle.json\n",
        "\n",
        "  ! kaggle datasets download -d bhavikbb/password-strength-classifier-dataset -p $dataset_dir"
      ],
      "metadata": {
        "id": "y0pIiUJswG7d",
        "colab": {
          "base_uri": "https://localhost:8080/"
        },
        "outputId": "98f520a3-d8c2-4358-9d1c-11bf3b5bb17f"
      },
      "execution_count": 3,
      "outputs": [
        {
          "output_type": "stream",
          "name": "stdout",
          "text": [
            "Downloading password-strength-classifier-dataset.zip to /content/password_strength_classifier/dataset\n",
            "\r  0% 0.00/5.01M [00:00<?, ?B/s]\n",
            "\r100% 5.01M/5.01M [00:00<00:00, 52.8MB/s]\n"
          ]
        }
      ]
    },
    {
      "cell_type": "code",
      "source": [
        "# read file\n",
        "\n",
        "file_path = os.path.join(dataset_dir, \"password-strength-classifier-dataset.zip\")\n",
        "\n",
        "pswd_df = pd.read_csv(file_path, on_bad_lines='skip')\n",
        "print(pswd_df)"
      ],
      "metadata": {
        "colab": {
          "base_uri": "https://localhost:8080/"
        },
        "id": "8jiwHeBuGRgP",
        "outputId": "ea02ed83-3602-4edd-d8d1-6ec4bdf83fd0"
      },
      "execution_count": 4,
      "outputs": [
        {
          "output_type": "stream",
          "name": "stdout",
          "text": [
            "            password  strength\n",
            "0           kzde5577         1\n",
            "1           kino3434         1\n",
            "2          visi7k1yr         1\n",
            "3           megzy123         1\n",
            "4        lamborghin1         1\n",
            "...              ...       ...\n",
            "669635    10redtux10         1\n",
            "669636     infrared1         1\n",
            "669637  184520socram         1\n",
            "669638     marken22a         1\n",
            "669639      fxx4pw4g         1\n",
            "\n",
            "[669640 rows x 2 columns]\n"
          ]
        }
      ]
    },
    {
      "cell_type": "code",
      "execution_count": 5,
      "metadata": {
        "colab": {
          "base_uri": "https://localhost:8080/",
          "height": 426
        },
        "id": "_VFws5SNT4xt",
        "outputId": "656a41d2-1c53-47a1-8666-5f89534268b2"
      },
      "outputs": [
        {
          "output_type": "stream",
          "name": "stdout",
          "text": [
            "            password  strength\n",
            "0           kzde5577         1\n",
            "1           kino3434         1\n",
            "2          visi7k1yr         1\n",
            "3           megzy123         1\n",
            "4        lamborghin1         1\n",
            "...              ...       ...\n",
            "669635    10redtux10         1\n",
            "669636     infrared1         1\n",
            "669637  184520socram         1\n",
            "669638     marken22a         1\n",
            "669639      fxx4pw4g         1\n",
            "\n",
            "[669639 rows x 2 columns]\n",
            "[['kzde5577' 1]\n",
            " ['kino3434' 1]\n",
            " ['visi7k1yr' 1]\n",
            " ...\n",
            " ['184520socram' 1]\n",
            " ['marken22a' 1]\n",
            " ['fxx4pw4g' 1]]\n",
            "Len of passwords:  669639\n",
            "Len of UNIQUE passwords:  669639\n"
          ]
        },
        {
          "output_type": "execute_result",
          "data": {
            "text/plain": [
              "'vectorizer = TfidfVectorizer(tokenizer=word_split)\\nX = vectorizer.fit_transform(passwords)\\n\\nprint(vectorizer.get_feature_names_out())'"
            ],
            "application/vnd.google.colaboratory.intrinsic+json": {
              "type": "string"
            }
          },
          "metadata": {},
          "execution_count": 5
        }
      ],
      "source": [
        "def word_split(inputs):\n",
        "    character=[]\n",
        "    for i in inputs:\n",
        "        character.append(i)\n",
        "    return character\n",
        "\n",
        "# unique values of strength feature\n",
        "pswd_df['strength'].unique()\n",
        "\n",
        "# number of missing values in dataset\n",
        "pswd_df.isnull().sum()\n",
        "\n",
        "# remove missing values\n",
        "pswd_df.dropna(inplace=True)\n",
        "pswd_df.isnull().sum()\n",
        "\n",
        "print(pswd_df)\n",
        "\n",
        "psw_array = np.array(pswd_df)\n",
        "print(psw_array)\n",
        "\n",
        "# ??? PROBLEM: it is shown that if shuffled then\n",
        "# there are several duplicates of a password\n",
        "#random.shuffle(psw_array)\n",
        "\n",
        "labels = np.array([p[1] for p in psw_array])\n",
        "passwords = np.array([p[0] for p in psw_array])\n",
        "\n",
        "print(\"Len of passwords: \", len(passwords))\n",
        "print(\"Len of UNIQUE passwords: \", len(np.unique(passwords)))\n",
        "\n",
        "\n",
        "\"\"\"vectorizer = TfidfVectorizer(tokenizer=word_split)\n",
        "X = vectorizer.fit_transform(passwords)\n",
        "\n",
        "print(vectorizer.get_feature_names_out())\"\"\"\n"
      ]
    },
    {
      "cell_type": "code",
      "source": [
        "# LENGTH feature\n",
        "lengths = np.array([len(p) for p in passwords])\n",
        "max_len = np.max(lengths)\n",
        "min_len = np.min(lengths)\n",
        "\n",
        "\n",
        "print(lengths)\n",
        "print(f\"Max: {max_len} --> {passwords[lengths == max_len]} \\nMin: {min_len} --> {passwords[lengths == min_len]}\")\n",
        "\n",
        "# normalize() from sklearn accept 2D arrays only --> reshape so that we have 1 row (1 \"sample\")\n",
        "# and make sklearn compute the remaining number of columns for us\n",
        "feat_length = normalize(lengths.reshape(1, -1))\n",
        "print(feat_length)\n",
        "\n",
        "\n",
        "# ROCKYOU feature\n",
        "\n",
        "# numpy array of 1 and 0 (1 if found, otherwise is 0)\n",
        "# int() used to convert boolean into number\n",
        "feat_rockyou = np.array([int(p in data_rockyou) for p in passwords])\n",
        "print(feat_rockyou)\n",
        "\n",
        "# passwords found in rockyou file\n",
        "print(passwords[feat_rockyou == 1])\n",
        "\n",
        "\n",
        "# JTR feature\n",
        "feat_jtr = np.array([int(p in data_jtr) for p in passwords])\n",
        "print(feat_jtr)\n",
        "print(passwords[feat_jtr == 1])\n",
        "\n",
        "\n"
      ],
      "metadata": {
        "id": "awONOEU9HOhF",
        "colab": {
          "base_uri": "https://localhost:8080/"
        },
        "outputId": "c1ff33bf-514a-49f4-ccd1-1bee733f89d9"
      },
      "execution_count": 6,
      "outputs": [
        {
          "output_type": "stream",
          "name": "stdout",
          "text": [
            "[ 8  8  9 ... 12  9  8]\n",
            "Max: 220 --> ['In0LnUoff8wfayJGqzelyDqg4AMl9gBhgl3T2iZeONzh5gPqTyP8IVLsQ960aZwlZcdSjE1XCi8taVT5dWSB3wNJwMqpzmlSIKh21A8TNxpSJ5nu2hULRgjHZF6fubMkwhjPNRryi0BOyas9zlp6JUsNN0RQ4KRma8satN1JwEOAxlhMgJ7OwgRBbwuqCCiwhdylowbq0xpBsXZbhexgZnq4yOUb'] \n",
            "Min: 1 --> ['M' '9' '1']\n",
            "[[0.00094165 0.00094165 0.00105936 ... 0.00141248 0.00105936 0.00094165]]\n",
            "[0 0 0 ... 0 0 0]\n",
            "['megzy123' 'intel1' 'schalke04' ... 'jenny1989' 'skyline123' 'hattrick9']\n",
            "[0 0 0 ... 0 0 0]\n",
            "['martin1' 'harley1' 'star69' 'dagger1' 'c00per' 'family1' 'michael1'\n",
            " 'ashley1' 'matti1' 'rocket1' 'florida1' 'scott1' 'front242' 'teddy1'\n",
            " 'viper1' 'amanda1' 'phoenix1' 'daniel1' 'rasta1' 'david1' 'rocky1'\n",
            " 'hello123' 'randy1' 'justin1' 'seven7' 'saturn5' 'vampire' 'lucky1'\n",
            " 'master1' 'babylon5' 'xxx123' 'mickey1' 'montana3' '1234qwer' 'happy123'\n",
            " 'cindy1' 'terry1' 'chester1' 'steph1' 'roger1' 'carol1' 'Golden' '654321'\n",
            " 'trustno1' 'pussy1' 'parola' 'simba1' 'peter1' 'william1' 'billy1'\n",
            " 'rambo1' 'Lindsay' 'james1' 'apollo13' 'h2opolo' 'happy1' 'eagle1'\n",
            " 'joker1' 'qqq111' 'catch22' 'qwerty' 'andrew1' 'vincent1' '!@#$%^&'\n",
            " 'ncc1701d' 'jeffrey1' 'andre1' 'wombat1' 'x-files' 'magic1' 'money1'\n",
            " 'smile1' 'kelly1' 'asdf1234' 'Service' 'newyork1' 'scooter1' 'guitar1'\n",
            " 'hello8' '369' 'jordan23' 'tyler1' 'enigma' 'water1' 'alpha1' 'wendy1'\n",
            " 'kevin1' 'julie1' 'mariah1' 'larry1' 'mouse1' 'germany1' 'robert1'\n",
            " '121212' 'jesse1' 'qwerty12' 'soccer1' 'honda1' 'dragon1' 'calvin1'\n",
            " 'hello1' 'abcde' '12345' 'george1' 'tiger2' 'batman1' 'barney1' 'spike1'\n",
            " 'system5' 'route66' 'number9' 'glider1' 'nirvana1' 'keith1' 'susan1'\n",
            " 'karen1' '123456' 'nexus6' 'heather1' 'mustang1' 'charlie1' 'joshua'\n",
            " 'angel1' 'chris1' 'victor1' 'piano1' 'a1b2c3d4' 'pedro1' 'jesus1'\n",
            " 'abcd1234' 'chris123' 'hawkeye1' 'zxcvbnm' 'bubba1' 'maria1' 'sarah1'\n",
            " 'monkey1' 'student2' 'christ1' '1' 'andrea1' 'shadow1' 'porsche911'\n",
            " '1234' 'secret' 'jason1' 'ernie1' 'molly1' 'apple1' 'mulder1' 'colt45'\n",
            " 'chelsea1' 'richard1' 'apple2' 'sunny1' 'ricardo1' 'sherry' 'steven1'\n",
            " '123123' 'rabbit1' '!@#$%^' '123' 'alice1' 'wayne1' '000000' 'steve1'\n",
            " 'gustavo' 'skipper1' 'ncc1701e' 'Knight' 'admin1' 'safety1' 'fuckyou'\n",
            " '111111']\n"
          ]
        }
      ]
    },
    {
      "cell_type": "markdown",
      "source": [
        "Password structure feature"
      ],
      "metadata": {
        "id": "uxIR4HNJgG7M"
      }
    },
    {
      "cell_type": "code",
      "source": [
        "# Define macros\n",
        "numbers = 0\n",
        "lower_case = 1\n",
        "upper_case = 2\n",
        "special_char = 3\n",
        "\n",
        "# Counts numbers, lowercases, uppercases and other characters in a password\n",
        "def calculate_password_structure(passwords):\n",
        "  passwords_structure = []\n",
        "  for password in passwords:\n",
        "    counts = [0, 0, 0, 0]\n",
        "    for character in password:\n",
        "      if character.isnumeric():\n",
        "        counts[numbers] += 1\n",
        "      elif character.islower():\n",
        "        counts[lower_case] += 1\n",
        "      elif character.isupper():\n",
        "        counts[upper_case] += 1\n",
        "      else:\n",
        "        counts[special_char] += 1\n",
        "    passwords_structure.append(counts)\n",
        "  return passwords_structure\n",
        "\n",
        "\n",
        "passwords_structure = calculate_password_structure(passwords)\n",
        "for i in range(20):\n",
        "  print(passwords[i],passwords_structure[i])"
      ],
      "metadata": {
        "id": "wLptS-t0gAEK",
        "outputId": "affd3751-4314-4371-8b85-dc679d83f687",
        "colab": {
          "base_uri": "https://localhost:8080/"
        }
      },
      "execution_count": 7,
      "outputs": [
        {
          "output_type": "stream",
          "name": "stdout",
          "text": [
            "kzde5577 [4, 4, 0, 0]\n",
            "kino3434 [4, 4, 0, 0]\n",
            "visi7k1yr [2, 7, 0, 0]\n",
            "megzy123 [3, 5, 0, 0]\n",
            "lamborghin1 [1, 10, 0, 0]\n",
            "AVYq1lDE4MgAZfNt [2, 5, 9, 0]\n",
            "u6c8vhow [2, 6, 0, 0]\n",
            "v1118714 [7, 1, 0, 0]\n",
            "universe2908 [4, 8, 0, 0]\n",
            "as326159 [6, 2, 0, 0]\n",
            "asv5o9yu [2, 6, 0, 0]\n",
            "612035180tok [9, 3, 0, 0]\n",
            "jytifok873 [3, 7, 0, 0]\n",
            "WUt9IZzE0OQ7PkNE [3, 3, 10, 0]\n",
            "jerusalem393 [3, 9, 0, 0]\n",
            "g067057895 [9, 1, 0, 0]\n",
            "52558000aaa [8, 3, 0, 0]\n",
            "idofo673 [3, 5, 0, 0]\n",
            "6975038lp [7, 2, 0, 0]\n",
            "sbl571017 [6, 3, 0, 0]\n"
          ]
        }
      ]
    }
  ]
}